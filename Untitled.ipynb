{
 "cells": [
  {
   "cell_type": "code",
   "execution_count": 2,
   "id": "a0335f1a",
   "metadata": {},
   "outputs": [],
   "source": [
    "from sklearn.datasets import load_iris\n",
    "iris=load_iris()"
   ]
  },
  {
   "cell_type": "code",
   "execution_count": 72,
   "id": "9bad995f",
   "metadata": {},
   "outputs": [],
   "source": [
    "X=iris.data\n",
    "Y=iris.target\n",
    "feature_names=iris.feature_names\n",
    "target_names=iris.target_names"
   ]
  },
  {
   "cell_type": "code",
   "execution_count": 73,
   "id": "f76963cc",
   "metadata": {},
   "outputs": [
    {
     "data": {
      "text/plain": [
       "['sepal length (cm)',\n",
       " 'sepal width (cm)',\n",
       " 'petal length (cm)',\n",
       " 'petal width (cm)']"
      ]
     },
     "execution_count": 73,
     "metadata": {},
     "output_type": "execute_result"
    }
   ],
   "source": [
    "feature_names"
   ]
  },
  {
   "cell_type": "code",
   "execution_count": 99,
   "id": "6acee0bb",
   "metadata": {},
   "outputs": [
    {
     "data": {
      "text/plain": [
       "array(['setosa', 'versicolor', 'virginica'], dtype='<U10')"
      ]
     },
     "execution_count": 99,
     "metadata": {},
     "output_type": "execute_result"
    }
   ],
   "source": [
    "target_names"
   ]
  },
  {
   "cell_type": "code",
   "execution_count": null,
   "id": "bc9f6aa8",
   "metadata": {},
   "outputs": [],
   "source": []
  },
  {
   "cell_type": "code",
   "execution_count": 100,
   "id": "212cfd7a",
   "metadata": {},
   "outputs": [],
   "source": [
    "from sklearn.model_selection import train_test_split"
   ]
  },
  {
   "cell_type": "code",
   "execution_count": 117,
   "id": "aee3fab6",
   "metadata": {},
   "outputs": [
    {
     "name": "stdout",
     "output_type": "stream",
     "text": [
      "(120, 4)\n"
     ]
    }
   ],
   "source": [
    "x_train,x_test,y_train,y_test=train_test_split(X,Y,test_size=0.2)\n",
    "print(x_train.shape)"
   ]
  },
  {
   "cell_type": "code",
   "execution_count": 118,
   "id": "063ed4e6",
   "metadata": {},
   "outputs": [],
   "source": [
    "\n",
    "# trining our model\n",
    "from sklearn.neighbors import KNeighborsClassifier\n",
    "knn=KNeighborsClassifier(n_neighbors=3)\n",
    "knn.fit(x_train,y_train)\n",
    "y_pred=knn.predict(x_test)"
   ]
  },
  {
   "cell_type": "code",
   "execution_count": 119,
   "id": "d9165ff3",
   "metadata": {},
   "outputs": [
    {
     "name": "stdout",
     "output_type": "stream",
     "text": [
      "0.9333333333333333\n"
     ]
    }
   ],
   "source": [
    "from sklearn import metrics\n",
    "print(metrics.accuracy_score(y_test,y_pred))"
   ]
  },
  {
   "cell_type": "code",
   "execution_count": 120,
   "id": "ee19c8e1",
   "metadata": {},
   "outputs": [],
   "source": [
    "# improving our model\n",
    "#decision tree\n",
    "# from sklearn.tree import DecisionTreeClassifier\n",
    "# dcs=DecisionTreeClassifier()\n",
    "# dcs.fit(x_train,y_train)\n",
    "# y_pred1=dcs.predict(x_test)"
   ]
  },
  {
   "cell_type": "code",
   "execution_count": 121,
   "id": "f51a78ab",
   "metadata": {},
   "outputs": [],
   "source": [
    "# from sklearn import metrics\n",
    "# print(metrics.accuracy_score(y_test,y_pred1))"
   ]
  },
  {
   "cell_type": "code",
   "execution_count": 134,
   "id": "2617363d",
   "metadata": {},
   "outputs": [
    {
     "name": "stdout",
     "output_type": "stream",
     "text": [
      "predictions;  ['versicolor', 'virginica']\n"
     ]
    }
   ],
   "source": [
    "sample=[[3,5,4,2],[2,3,5,4]]\n",
    "predictions=knn.predict(sample)\n",
    "pred_species=[iris.target_names[p] for p in predictions]\n",
    "print('predictions; ',pred_species)\n"
   ]
  },
  {
   "cell_type": "code",
   "execution_count": 140,
   "id": "0ca3473f",
   "metadata": {},
   "outputs": [
    {
     "data": {
      "text/plain": [
       "['mlbrain.joblib']"
      ]
     },
     "execution_count": 140,
     "metadata": {},
     "output_type": "execute_result"
    }
   ],
   "source": [
    "# from sklearn.externals\n",
    "import joblib\n",
    "joblib.dump(knn,'mlbrain.joblib')"
   ]
  },
  {
   "cell_type": "code",
   "execution_count": 141,
   "id": "720bf4ac",
   "metadata": {},
   "outputs": [
    {
     "data": {
      "text/plain": [
       "array([1, 0, 0, 0, 1, 0, 0, 2, 0, 0, 0, 0, 2, 2, 0, 1, 1, 1, 0, 1, 2, 0,\n",
       "       2, 1, 2, 2, 1, 1, 2, 1])"
      ]
     },
     "execution_count": 141,
     "metadata": {},
     "output_type": "execute_result"
    }
   ],
   "source": [
    "model=joblib.load('mlbrain.joblib')\n",
    "model.predict(x_test)"
   ]
  },
  {
   "cell_type": "code",
   "execution_count": 142,
   "id": "26401ca5",
   "metadata": {},
   "outputs": [
    {
     "name": "stdout",
     "output_type": "stream",
     "text": [
      "predictions;  ['versicolor', 'virginica']\n"
     ]
    }
   ],
   "source": [
    "sample=[[3,5,4,2],[2,3,5,4]]\n",
    "predictions=model.predict(sample)\n",
    "pred_species=[iris.target_names[p] for p in predictions]\n",
    "print('predictions; ',pred_species)\n"
   ]
  },
  {
   "cell_type": "code",
   "execution_count": null,
   "id": "96ba87ff",
   "metadata": {},
   "outputs": [],
   "source": []
  },
  {
   "cell_type": "code",
   "execution_count": null,
   "id": "b651b63c",
   "metadata": {},
   "outputs": [],
   "source": []
  }
 ],
 "metadata": {
  "kernelspec": {
   "display_name": "Python 3 (ipykernel)",
   "language": "python",
   "name": "python3"
  },
  "language_info": {
   "codemirror_mode": {
    "name": "ipython",
    "version": 3
   },
   "file_extension": ".py",
   "mimetype": "text/x-python",
   "name": "python",
   "nbconvert_exporter": "python",
   "pygments_lexer": "ipython3",
   "version": "3.9.7"
  }
 },
 "nbformat": 4,
 "nbformat_minor": 5
}
